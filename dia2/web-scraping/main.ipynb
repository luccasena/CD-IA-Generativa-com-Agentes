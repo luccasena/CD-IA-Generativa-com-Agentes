{
 "cells": [
  {
   "cell_type": "markdown",
   "id": "f087de3b",
   "metadata": {},
   "source": [
    "## Web Scraping: Dados de Concursos\n",
    "- Estudante: Lucca de Sena Barbosa - Turma 2\n",
    "- Curso de Extensão: CD-IA-Generativa-com-Agentes"
   ]
  },
  {
   "cell_type": "markdown",
   "id": "49f7ddcf",
   "metadata": {},
   "source": [
    "### **1. Importação de Bibliotecas e alguns Parâmetros:**"
   ]
  },
  {
   "cell_type": "code",
   "execution_count": null,
   "id": "0accf325",
   "metadata": {},
   "outputs": [],
   "source": [
    "import requests\n",
    "from bs4 import BeautifulSoup\n",
    "import json\n",
    "\n",
    "estados = [\"acre\", \"alagoas\", \"amazonas\", \"amapa\", \"bahia\", \"ceara\", \"distrito-federal\", \"espirito-santo\", \"goias\", \"maranhao\", \"minas-gerais\", \"mato-grosso-do-sul\", \"para\", \"paraiba\", \"pernambuco\", \"piaui\", \"parana\", \"rio-de-janeiro\", \"rio-grande-do-norte\", \"rondonia\", \"roraima\", \"rio-grande-do-sul\", \"santa-catarina\"]\n",
    "\n",
    "# Lista final que vai guardar todos os concursos\n",
    "concursos_abertos = []\n",
    "concursos_andamento= []\n",
    "\n",
    "index = 0"
   ]
  },
  {
   "cell_type": "markdown",
   "id": "eaa259b5",
   "metadata": {},
   "source": [
    "### **2. Scraping de Concursos Abertos (06/09/2025):**"
   ]
  },
  {
   "cell_type": "code",
   "execution_count": null,
   "id": "35afafe5",
   "metadata": {},
   "outputs": [
    {
     "name": "stdout",
     "output_type": "stream",
     "text": [
      "Scraping concluído! Dados salvos em concursos_abertos.json\n"
     ]
    }
   ],
   "source": [
    "for estado in estados:\n",
    "    SITE_URL = f\"https://www.acheconcursos.com.br/concursos-{estado}\"\n",
    "    response = requests.get(SITE_URL)\n",
    "\n",
    "    if response.status_code == 200:\n",
    "        soup = BeautifulSoup(response.text, \"html.parser\")\n",
    "        items = soup.find_all(\"div\", class_=\"wrap-tbl-conc\")\n",
    "\n",
    "        if not items:\n",
    "            print(f\"Nenhuma tabela encontrada para {estado}\")\n",
    "            continue\n",
    "\n",
    "        tabela = items[0].select(\"tr\")\n",
    "\n",
    "        for idx in range(1, len(tabela)):  # pula o cabeçalho\n",
    "            index += 1\n",
    "            concurso = tabela[idx].select_one(\"a\").get_text(strip=True)\n",
    "            link_concurso = tabela[idx].select_one(\"a\")[\"href\"]\n",
    "            nivel = tabela[idx].select_one(\"span.vagas\").get_text(strip=True)\n",
    "            vagas = tabela[idx].select_one(\"span.numero_vagas\").get_text(strip=True)\n",
    "            salarios = tabela[idx].select_one(\"span.sal_max\").get_text(strip=True)\n",
    "\n",
    "            concursos_abertos.append({\n",
    "                \"codigo\": f\"{index}\",  # cria um ID único com estado+index\n",
    "                \"descricao\": concurso,\n",
    "                \"linkConcurso\": link_concurso,\n",
    "                \"dadosSobre\": {\n",
    "                    \"Estado\": estado,\n",
    "                    \"NivelEscolaridade\": nivel,\n",
    "                    \"NumeroVagas\": vagas,\n",
    "                    \"SalarioAte\": salarios\n",
    "                }\n",
    "            })\n",
    "    else:\n",
    "        print(f\"Erro ao acessar {SITE_URL}: {response.status_code}\")\n",
    "\n",
    "# Salvar tudo em JSON só no final\n",
    "with open(\"concursos_abertos.json\", \"w\", encoding=\"utf-8\") as f:\n",
    "    json.dump(concursos_abertos, f, ensure_ascii=False, indent=2)\n",
    "\n",
    "print(\"Scraping concluído! Dados salvos em concursos_abertos.json\")\n",
    "\n"
   ]
  },
  {
   "cell_type": "markdown",
   "id": "bed08209",
   "metadata": {},
   "source": [
    "### **3. Scraping de Concursos Andamento (06/09/2025):**"
   ]
  },
  {
   "cell_type": "code",
   "execution_count": null,
   "id": "c858f605",
   "metadata": {},
   "outputs": [
    {
     "name": "stdout",
     "output_type": "stream",
     "text": [
      "Scraping concluído! Dados salvos em concursos_abertos.json\n"
     ]
    }
   ],
   "source": [
    "index = 0\n",
    "for estado in estados:\n",
    "    SITE_URL = f\"https://www.acheconcursos.com.br/concursos-{estado}\"\n",
    "    response = requests.get(SITE_URL)\n",
    "\n",
    "    if response.status_code == 200:\n",
    "        soup = BeautifulSoup(response.text, \"html.parser\")\n",
    "        items = soup.find_all(\"div\", class_=\"wrap-tbl-conc\")\n",
    "\n",
    "        if not items:\n",
    "            print(f\"Nenhuma tabela encontrada para {estado}\")\n",
    "            continue\n",
    "\n",
    "        tabela = items[1].select(\"tr\")\n",
    "\n",
    "        for idx in range(1, len(tabela)):  # pula o cabeçalho\n",
    "            index += 1\n",
    "            concurso = tabela[idx].select_one(\"a\").get_text(strip=True)\n",
    "            link_concurso = tabela[idx].select_one(\"a\")[\"href\"]\n",
    "            nivel = tabela[idx].select_one(\"span.vagas\").get_text(strip=True)\n",
    "            vagas = tabela[idx].select_one(\"span.numero_vagas\").get_text(strip=True)\n",
    "            salarios = tabela[idx].select_one(\"span.sal_max\").get_text(strip=True)\n",
    "\n",
    "            concursos_andamento.append({\n",
    "                \"codigo\": f\"{index}\",  # cria um ID único com estado+index\n",
    "                \"descricao\": concurso,\n",
    "                \"linkConcurso\": link_concurso,\n",
    "                \"dadosSobre\": {\n",
    "                    \"Estado\": estado,\n",
    "                    \"NivelEscolaridade\": nivel,\n",
    "                    \"NumeroVagas\": vagas,\n",
    "                    \"SalarioAte\": salarios\n",
    "                }\n",
    "            })\n",
    "    else:\n",
    "        print(f\"Erro ao acessar {SITE_URL}: {response.status_code}\")\n",
    "\n",
    "# Salvar tudo em JSON só no final\n",
    "with open(\"concursos_andamento.json\", \"w\", encoding=\"utf-8\") as f:\n",
    "    json.dump(concursos_andamento, f, ensure_ascii=False, indent=2)\n",
    "\n",
    "print(\"Scraping concluído! Dados salvos em concursos_andamento.json\")"
   ]
  }
 ],
 "metadata": {
  "kernelspec": {
   "display_name": ".venv (3.12.7)",
   "language": "python",
   "name": "python3"
  },
  "language_info": {
   "codemirror_mode": {
    "name": "ipython",
    "version": 3
   },
   "file_extension": ".py",
   "mimetype": "text/x-python",
   "name": "python",
   "nbconvert_exporter": "python",
   "pygments_lexer": "ipython3",
   "version": "3.12.7"
  }
 },
 "nbformat": 4,
 "nbformat_minor": 5
}
